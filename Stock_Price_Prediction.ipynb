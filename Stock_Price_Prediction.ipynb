{
  "nbformat": 4,
  "nbformat_minor": 0,
  "metadata": {
    "colab": {
      "name": "Stock Price Prediction.ipynb",
      "provenance": [],
      "collapsed_sections": [],
      "authorship_tag": "ABX9TyMMmLT/tmBR6ag6UlW+oH+m",
      "include_colab_link": true
    },
    "kernelspec": {
      "name": "python3",
      "display_name": "Python 3"
    }
  },
  "cells": [
    {
      "cell_type": "markdown",
      "metadata": {
        "id": "view-in-github",
        "colab_type": "text"
      },
      "source": [
        "<a href=\"https://colab.research.google.com/github/Nzaya/Stock-Price-Prediction/blob/master/Stock_Price_Prediction.ipynb\" target=\"_parent\"><img src=\"https://colab.research.google.com/assets/colab-badge.svg\" alt=\"Open In Colab\"/></a>"
      ]
    },
    {
      "cell_type": "code",
      "metadata": {
        "id": "UImgaH57JEqP",
        "colab_type": "code",
        "colab": {}
      },
      "source": [
        "# Load necessary libraries\n",
        "\n",
        "import pandas as pd\n",
        "import numpy as np\n",
        "import matplotlib.pyplot as plt\n",
        "%matplotlib inline\n",
        "from matplotlib.pylab import rcParams\n",
        "rcParams['figure.figsize']=20,10\n",
        "from keras.models import Sequential\n",
        "from keras.layers import LSTM,Dropout,Dense\n",
        "from sklearn.preprocessing import MinMaxScaler"
      ],
      "execution_count": 54,
      "outputs": []
    },
    {
      "cell_type": "code",
      "metadata": {
        "id": "hpLVaV_8JKYC",
        "colab_type": "code",
        "colab": {
          "base_uri": "https://localhost:8080/",
          "height": 204
        },
        "outputId": "5812a1e5-60b7-418c-9162-e01368185a7c"
      },
      "source": [
        "# Load the dataset\n",
        "\n",
        "tata = pd.read_csv('/content/NSE-Tata-Global-Beverages-Limited.csv')\n",
        "tata.head()"
      ],
      "execution_count": 55,
      "outputs": [
        {
          "output_type": "execute_result",
          "data": {
            "text/html": [
              "<div>\n",
              "<style scoped>\n",
              "    .dataframe tbody tr th:only-of-type {\n",
              "        vertical-align: middle;\n",
              "    }\n",
              "\n",
              "    .dataframe tbody tr th {\n",
              "        vertical-align: top;\n",
              "    }\n",
              "\n",
              "    .dataframe thead th {\n",
              "        text-align: right;\n",
              "    }\n",
              "</style>\n",
              "<table border=\"1\" class=\"dataframe\">\n",
              "  <thead>\n",
              "    <tr style=\"text-align: right;\">\n",
              "      <th></th>\n",
              "      <th>Date</th>\n",
              "      <th>Open</th>\n",
              "      <th>High</th>\n",
              "      <th>Low</th>\n",
              "      <th>Last</th>\n",
              "      <th>Close</th>\n",
              "      <th>Total Trade Quantity</th>\n",
              "      <th>Turnover (Lacs)</th>\n",
              "    </tr>\n",
              "  </thead>\n",
              "  <tbody>\n",
              "    <tr>\n",
              "      <th>0</th>\n",
              "      <td>2018-10-08</td>\n",
              "      <td>208.00</td>\n",
              "      <td>222.25</td>\n",
              "      <td>206.85</td>\n",
              "      <td>216.00</td>\n",
              "      <td>215.15</td>\n",
              "      <td>4642146.0</td>\n",
              "      <td>10062.83</td>\n",
              "    </tr>\n",
              "    <tr>\n",
              "      <th>1</th>\n",
              "      <td>2018-10-05</td>\n",
              "      <td>217.00</td>\n",
              "      <td>218.60</td>\n",
              "      <td>205.90</td>\n",
              "      <td>210.25</td>\n",
              "      <td>209.20</td>\n",
              "      <td>3519515.0</td>\n",
              "      <td>7407.06</td>\n",
              "    </tr>\n",
              "    <tr>\n",
              "      <th>2</th>\n",
              "      <td>2018-10-04</td>\n",
              "      <td>223.50</td>\n",
              "      <td>227.80</td>\n",
              "      <td>216.15</td>\n",
              "      <td>217.25</td>\n",
              "      <td>218.20</td>\n",
              "      <td>1728786.0</td>\n",
              "      <td>3815.79</td>\n",
              "    </tr>\n",
              "    <tr>\n",
              "      <th>3</th>\n",
              "      <td>2018-10-03</td>\n",
              "      <td>230.00</td>\n",
              "      <td>237.50</td>\n",
              "      <td>225.75</td>\n",
              "      <td>226.45</td>\n",
              "      <td>227.60</td>\n",
              "      <td>1708590.0</td>\n",
              "      <td>3960.27</td>\n",
              "    </tr>\n",
              "    <tr>\n",
              "      <th>4</th>\n",
              "      <td>2018-10-01</td>\n",
              "      <td>234.55</td>\n",
              "      <td>234.60</td>\n",
              "      <td>221.05</td>\n",
              "      <td>230.30</td>\n",
              "      <td>230.90</td>\n",
              "      <td>1534749.0</td>\n",
              "      <td>3486.05</td>\n",
              "    </tr>\n",
              "  </tbody>\n",
              "</table>\n",
              "</div>"
            ],
            "text/plain": [
              "         Date    Open    High  ...   Close  Total Trade Quantity  Turnover (Lacs)\n",
              "0  2018-10-08  208.00  222.25  ...  215.15             4642146.0         10062.83\n",
              "1  2018-10-05  217.00  218.60  ...  209.20             3519515.0          7407.06\n",
              "2  2018-10-04  223.50  227.80  ...  218.20             1728786.0          3815.79\n",
              "3  2018-10-03  230.00  237.50  ...  227.60             1708590.0          3960.27\n",
              "4  2018-10-01  234.55  234.60  ...  230.90             1534749.0          3486.05\n",
              "\n",
              "[5 rows x 8 columns]"
            ]
          },
          "metadata": {
            "tags": []
          },
          "execution_count": 55
        }
      ]
    },
    {
      "cell_type": "markdown",
      "metadata": {
        "id": "tBKCSia8E-12",
        "colab_type": "text"
      },
      "source": [
        "The Open column is the starting price while the Close column is the final price of a stock on a particular trading day. The High and Low columns represent the highest and lowest prices for a certain day."
      ]
    },
    {
      "cell_type": "code",
      "metadata": {
        "id": "MjEhWQ4fJKZw",
        "colab_type": "code",
        "colab": {}
      },
      "source": [
        "#Analyze the closing prices \n",
        "\n",
        "tata['Date']= pd.to_datetime(tata.Date,format='%Y-%m-%d')\n",
        "tata.index=tata['Date']"
      ],
      "execution_count": 56,
      "outputs": []
    },
    {
      "cell_type": "code",
      "metadata": {
        "id": "PvY-bKTHJKeD",
        "colab_type": "code",
        "colab": {
          "base_uri": "https://localhost:8080/",
          "height": 428
        },
        "outputId": "3c528192-e70d-44ae-d66e-5bd7690eee01"
      },
      "source": [
        "#Plot the analyzation\n",
        "\n",
        "plt.figure(figsize=(16,8))\n",
        "plt.plot(tata['Close'], label='Close Price History')"
      ],
      "execution_count": 57,
      "outputs": [
        {
          "output_type": "execute_result",
          "data": {
            "text/plain": [
              "[<matplotlib.lines.Line2D at 0x7fb0fed18a20>]"
            ]
          },
          "metadata": {
            "tags": []
          },
          "execution_count": 57
        },
        {
          "output_type": "display_data",
          "data": {
            "image/png": "[encoded data removed]",
            "text/plain": [
              "<Figure size 1152x576 with 1 Axes>"
            ]
          },
          "metadata": {
            "tags": [],
            "needs_background": "light"
          }
        }
      ]
    },
    {
      "cell_type": "code",
      "metadata": {
        "id": "kQeQxUzFJKfx",
        "colab_type": "code",
        "colab": {}
      },
      "source": [
        "#Sort the dataset on date time and filter \"date\" and \"close\" columns\n",
        "\n",
        "data = tata.sort_index(ascending=True, axis = 0)\n",
        "df = pd.DataFrame(index=range(0,len(tata)), columns=['Date','Close'])\n",
        "\n",
        "for i in range(0,len(data)):\n",
        "  df[\"Date\"][i] = data['Date'][i]\n",
        "  df[\"Close\"][i] = data[\"Close\"][i]"
      ],
      "execution_count": 67,
      "outputs": []
    },
    {
      "cell_type": "markdown",
      "metadata": {
        "id": "Qazbi2uEFMzn",
        "colab_type": "text"
      },
      "source": [
        "We have to scale our data for optimal performance. In our case, we’ll use Scikit- Learn’s MinMaxScaler and scale our dataset to numbers between zero and one."
      ]
    },
    {
      "cell_type": "code",
      "metadata": {
        "id": "QhZn_wCkJKkm",
        "colab_type": "code",
        "colab": {}
      },
      "source": [
        "# Normalize the new dataset\n",
        "\n",
        "scaler = MinMaxScaler(feature_range=(0,1))\n",
        "final = df.values\n"
      ],
      "execution_count": 68,
      "outputs": []
    },
    {
      "cell_type": "markdown",
      "metadata": {
        "id": "eWCvLalSGDY-",
        "colab_type": "text"
      },
      "source": [
        "# Creating Data with Timesteps\n",
        "\n",
        "LSTMs expect our data to be in a specific format, usually a 3D array. We start by creating data in 60 timesteps and converting it into an array using NumPy. Next, we convert the data into a 3D dimension array with X_train samples, 60 timestamps, and one feature at each step."
      ]
    },
    {
      "cell_type": "code",
      "metadata": {
        "id": "cVjPDLIt0Khd",
        "colab_type": "code",
        "colab": {}
      },
      "source": [
        "\n",
        "train_data = final[0:987,:]\n",
        "valid_data = final[987:,:]\n"
      ],
      "execution_count": 69,
      "outputs": []
    },
    {
      "cell_type": "code",
      "metadata": {
        "id": "TtfxGgSeJKmM",
        "colab_type": "code",
        "colab": {}
      },
      "source": [
        "df.index = df.Date"
      ],
      "execution_count": 70,
      "outputs": []
    },
    {
      "cell_type": "code",
      "metadata": {
        "id": "EEdT5BaMrjt8",
        "colab_type": "code",
        "colab": {}
      },
      "source": [
        "df.drop(\"Date\", axis = 1, inplace = True)"
      ],
      "execution_count": 71,
      "outputs": []
    },
    {
      "cell_type": "code",
      "metadata": {
        "id": "bKPzWGtYJKqn",
        "colab_type": "code",
        "colab": {}
      },
      "source": [
        "scaler= MinMaxScaler(feature_range=(0,1))"
      ],
      "execution_count": 72,
      "outputs": []
    },
    {
      "cell_type": "code",
      "metadata": {
        "id": "lyPpSLtcucYr",
        "colab_type": "code",
        "colab": {}
      },
      "source": [
        "scaled_data=scaler.fit_transform(df)"
      ],
      "execution_count": 74,
      "outputs": []
    },
    {
      "cell_type": "code",
      "metadata": {
        "id": "iSLgdvX7uhGb",
        "colab_type": "code",
        "colab": {}
      },
      "source": [
        "x_train_data,y_train_data=[],[]"
      ],
      "execution_count": 75,
      "outputs": []
    },
    {
      "cell_type": "code",
      "metadata": {
        "id": "n4AqFLgoJKsZ",
        "colab_type": "code",
        "colab": {}
      },
      "source": [
        "for i in range(60,len(train_data)):\n",
        "  x_train_data.append(scaled_data[i-60:i,0])\n",
        "  y_train_data.append(scaled_data[i,0])"
      ],
      "execution_count": 76,
      "outputs": []
    },
    {
      "cell_type": "code",
      "metadata": {
        "id": "fnfNXSQbJKwl",
        "colab_type": "code",
        "colab": {}
      },
      "source": [
        "x_train_data,y_train_data = np.array(x_train_data),np.array(y_train_data)\n",
        "x_train_data = np.reshape(x_train_data,(x_train_data.shape[0],x_train_data.shape[1],1))"
      ],
      "execution_count": 77,
      "outputs": []
    },
    {
      "cell_type": "code",
      "metadata": {
        "id": "DqQ-An9mJKyO",
        "colab_type": "code",
        "colab": {}
      },
      "source": [
        "# BUild and train the LSTM Model\n",
        "\n",
        "lstm_model = Sequential()\n",
        "lstm_model.add(LSTM(units = 50, return_sequences= True, input_shape=(x_train_data.shape[1],1)))\n",
        "lstm_model.add(LSTM(units=50))\n",
        "lstm_model.add(Dense(1))"
      ],
      "execution_count": 78,
      "outputs": []
    },
    {
      "cell_type": "code",
      "metadata": {
        "id": "CdtaA4NeJK2v",
        "colab_type": "code",
        "colab": {}
      },
      "source": [
        "inputs_data = df[len(df)-len(valid_data)-60:].values\n",
        "inputs_data = inputs_data.reshape(-1,1)\n",
        "inputs_data = scaler.transform(inputs_data)"
      ],
      "execution_count": 79,
      "outputs": []
    },
    {
      "cell_type": "code",
      "metadata": {
        "id": "cEBrHnUwJK4a",
        "colab_type": "code",
        "colab": {
          "base_uri": "https://localhost:8080/",
          "height": 51
        },
        "outputId": "d8cf2467-a1ff-49d6-cb2d-1acd1bd1e74a"
      },
      "source": [
        "lstm_model.compile(loss ='mean_squared_error', optimizer ='adam')\n",
        "lstm_model.fit(x_train_data,y_train_data, epochs=1, batch_size=1, verbose=2)"
      ],
      "execution_count": 80,
      "outputs": [
        {
          "output_type": "stream",
          "text": [
            "927/927 - 19s - loss: 9.1299e-04\n"
          ],
          "name": "stdout"
        },
        {
          "output_type": "execute_result",
          "data": {
            "text/plain": [
              "<tensorflow.python.keras.callbacks.History at 0x7fb0f84c5710>"
            ]
          },
          "metadata": {
            "tags": []
          },
          "execution_count": 80
        }
      ]
    },
    {
      "cell_type": "code",
      "metadata": {
        "id": "TASHxDqmJK8x",
        "colab_type": "code",
        "colab": {}
      },
      "source": [
        "# Sample the dataset to make stock prediction using the LSTM model:\n",
        "\n",
        "X_test=[]\n",
        "for i in range(60,inputs_data.shape[0]):\n",
        "  X_test.append(inputs_data[i-60:i,0])\n",
        "X_test = np.array(X_test)"
      ],
      "execution_count": 81,
      "outputs": []
    },
    {
      "cell_type": "code",
      "metadata": {
        "id": "GmmLIbFgJK-v",
        "colab_type": "code",
        "colab": {}
      },
      "source": [
        "X_test = np.reshape(X_test,(X_test.shape[0], X_test.shape[1],1))\n",
        "predicted_closing_price = lstm_model.predict(X_test)\n",
        "predicted_closing_price = scaler.inverse_transform(predicted_closing_price)"
      ],
      "execution_count": 82,
      "outputs": []
    },
    {
      "cell_type": "code",
      "metadata": {
        "id": "OisDmS6kJLCh",
        "colab_type": "code",
        "colab": {}
      },
      "source": [
        "#Save the LSTM MOdel\n",
        "\n",
        "lstm_model.save('saved_model.h5')"
      ],
      "execution_count": 83,
      "outputs": []
    },
    {
      "cell_type": "code",
      "metadata": {
        "id": "2USVy66FXl5a",
        "colab_type": "code",
        "colab": {
          "base_uri": "https://localhost:8080/",
          "height": 566
        },
        "outputId": "8176cabd-6214-4b4c-945f-615384aac1c2"
      },
      "source": [
        "#Visualize the predicted stock cost with actual stock cost\n",
        "\n",
        "train_data = df[:987]\n",
        "valid_data = df[987:]\n",
        "valid_data['Predictions'] = predicted_closing_price\n",
        "plt.plot(train_data['Close'])\n",
        "plt.plot(valid_data[['Close','Predictions']])"
      ],
      "execution_count": 84,
      "outputs": [
        {
          "output_type": "stream",
          "text": [
            "/usr/local/lib/python3.6/dist-packages/ipykernel_launcher.py:5: SettingWithCopyWarning: \n",
            "A value is trying to be set on a copy of a slice from a DataFrame.\n",
            "Try using .loc[row_indexer,col_indexer] = value instead\n",
            "\n",
            "See the caveats in the documentation: https://pandas.pydata.org/pandas-docs/stable/user_guide/indexing.html#returning-a-view-versus-a-copy\n",
            "  \"\"\"\n"
          ],
          "name": "stderr"
        },
        {
          "output_type": "execute_result",
          "data": {
            "text/plain": [
              "[<matplotlib.lines.Line2D at 0x7fb0f5036b00>,\n",
              " <matplotlib.lines.Line2D at 0x7fb0f5036c18>]"
            ]
          },
          "metadata": {
            "tags": []
          },
          "execution_count": 84
        },
        {
          "output_type": "display_data",
          "data": {
            "image/png": "[encoded data removed]",
            "text/plain": [
              "<Figure size 1440x720 with 1 Axes>"
            ]
          },
          "metadata": {
            "tags": [],
            "needs_background": "light"
          }
        }
      ]
    },
    {
      "cell_type": "markdown",
      "metadata": {
        "id": "znYD1HIlZAZd",
        "colab_type": "text"
      },
      "source": [
        "# Build the dashboard using Plotly dash"
      ]
    },
    {
      "cell_type": "code",
      "metadata": {
        "id": "w6DksJzkXmCZ",
        "colab_type": "code",
        "colab": {
          "base_uri": "https://localhost:8080/",
          "height": 921
        },
        "outputId": "f707a009-cd35-4fc7-dbd8-a087a3184834"
      },
      "source": [
        "# Install necessary libraries\n",
        "\n",
        "!pip3 install dash"
      ],
      "execution_count": 85,
      "outputs": [
        {
          "output_type": "stream",
          "text": [
            "Collecting dash\n",
            "\u001b[?25l  Downloading https://files.pythonhosted.org/packages/1d/d1/191ad32bd9e6d10b2fc0f5d31e9e6a85fdb2642088658f75817d67bdeaea/dash-1.14.0.tar.gz (70kB)\n",
            "\r\u001b[K     |████▋                           | 10kB 17.4MB/s eta 0:00:01\r\u001b[K     |█████████▎                      | 20kB 1.9MB/s eta 0:00:01\r\u001b[K     |██████████████                  | 30kB 2.1MB/s eta 0:00:01\r\u001b[K     |██████████████████▋             | 40kB 2.5MB/s eta 0:00:01\r\u001b[K     |███████████████████████▎        | 51kB 2.3MB/s eta 0:00:01\r\u001b[K     |███████████████████████████▉    | 61kB 2.6MB/s eta 0:00:01\r\u001b[K     |████████████████████████████████| 71kB 2.1MB/s \n",
            "\u001b[?25hRequirement already satisfied: Flask>=1.0.2 in /usr/local/lib/python3.6/dist-packages (from dash) (1.1.2)\n",
            "Collecting flask-compress\n",
            "  Downloading https://files.pythonhosted.org/packages/a0/96/cd684c1ffe97b513303b5bfd4bbfb4114c5f4a5ea8a737af6fd813273df8/Flask-Compress-1.5.0.tar.gz\n",
            "Requirement already satisfied: plotly in /usr/local/lib/python3.6/dist-packages (from dash) (4.4.1)\n",
            "Collecting dash_renderer==1.6.0\n",
            "\u001b[?25l  Downloading https://files.pythonhosted.org/packages/da/a6/ddbcd01c638a2c235bfe13fd75155b344c7b7ab1c6466fe6d46b159897ad/dash_renderer-1.6.0.tar.gz (1.2MB)\n",
            "\u001b[K     |████████████████████████████████| 1.2MB 4.6MB/s \n",
            "\u001b[?25hCollecting dash-core-components==1.10.2\n",
            "\u001b[?25l  Downloading https://files.pythonhosted.org/packages/ee/74/f961bb01aa015b76c60045cf8ad5d9eb2279656f4483b42750ec3b925c9c/dash_core_components-1.10.2.tar.gz (3.4MB)\n",
            "\u001b[K     |████████████████████████████████| 3.4MB 9.9MB/s \n",
            "\u001b[?25hCollecting dash-html-components==1.0.3\n",
            "\u001b[?25l  Downloading https://files.pythonhosted.org/packages/da/20/46714ae501ccf16e5e37ca160c06e27347d19889687454168730e6744cdc/dash_html_components-1.0.3.tar.gz (187kB)\n",
            "\u001b[K     |████████████████████████████████| 194kB 14.6MB/s \n",
            "\u001b[?25hCollecting dash-table==4.9.0\n",
            "\u001b[?25l  Downloading https://files.pythonhosted.org/packages/54/9f/11347b397b840b67481f6ecadefb64de0b57d199752d5e182161a4217f1d/dash_table-4.9.0.tar.gz (1.8MB)\n",
            "\u001b[K     |████████████████████████████████| 1.8MB 12.2MB/s \n",
            "\u001b[?25hRequirement already satisfied: future in /usr/local/lib/python3.6/dist-packages (from dash) (0.16.0)\n",
            "Requirement already satisfied: click>=5.1 in /usr/local/lib/python3.6/dist-packages (from Flask>=1.0.2->dash) (7.1.2)\n",
            "Requirement already satisfied: Jinja2>=2.10.1 in /usr/local/lib/python3.6/dist-packages (from Flask>=1.0.2->dash) (2.11.2)\n",
            "Requirement already satisfied: itsdangerous>=0.24 in /usr/local/lib/python3.6/dist-packages (from Flask>=1.0.2->dash) (1.1.0)\n",
            "Requirement already satisfied: Werkzeug>=0.15 in /usr/local/lib/python3.6/dist-packages (from Flask>=1.0.2->dash) (1.0.1)\n",
            "Collecting brotli\n",
            "\u001b[?25l  Downloading https://files.pythonhosted.org/packages/f4/68/60a220454dc5083c6d59b41aa90bb1c96fad62a0abf3a33e0ef64b38638a/Brotli-1.0.7-cp36-cp36m-manylinux1_x86_64.whl (352kB)\n",
            "\u001b[K     |████████████████████████████████| 358kB 18.7MB/s \n",
            "\u001b[?25hRequirement already satisfied: six in /usr/local/lib/python3.6/dist-packages (from plotly->dash) (1.15.0)\n",
            "Requirement already satisfied: retrying>=1.3.3 in /usr/local/lib/python3.6/dist-packages (from plotly->dash) (1.3.3)\n",
            "Requirement already satisfied: MarkupSafe>=0.23 in /usr/local/lib/python3.6/dist-packages (from Jinja2>=2.10.1->Flask>=1.0.2->dash) (1.1.1)\n",
            "Building wheels for collected packages: dash, flask-compress, dash-renderer, dash-core-components, dash-html-components, dash-table\n",
            "  Building wheel for dash (setup.py) ... \u001b[?25l\u001b[?25hdone\n",
            "  Created wheel for dash: filename=dash-1.14.0-cp36-none-any.whl size=80129 sha256=4537cfb8febec41ec52d7c6e338730a8683f4ef95248bb5f95b88793a904f780\n",
            "  Stored in directory: /root/.cache/pip/wheels/1d/54/0b/e846f762d47e8abc9234419822d013dfb2ccf957b48e411dc6\n",
            "  Building wheel for flask-compress (setup.py) ... \u001b[?25l\u001b[?25hdone\n",
            "  Created wheel for flask-compress: filename=Flask_Compress-1.5.0-cp36-none-any.whl size=5273 sha256=b5c94cb620dd77c6bf8d59c2a94aa3addfb87e3cfbefb018925d3fa40ef1431d\n",
            "  Stored in directory: /root/.cache/pip/wheels/f7/e9/e4/5afc286be7c87461375e33152558415dfeb0c8f5af3b50e742\n",
            "  Building wheel for dash-renderer (setup.py) ... \u001b[?25l\u001b[?25hdone\n",
            "  Created wheel for dash-renderer: filename=dash_renderer-1.6.0-cp36-none-any.whl size=1182221 sha256=886f6375e6ea87bd4760c3aaa872d823363b8f1b09db6a76fe709bc9769647e4\n",
            "  Stored in directory: /root/.cache/pip/wheels/2a/de/21/8774fe1ae2271c4747c55c5bcd3e914302a7a6e55a77d866f2\n",
            "  Building wheel for dash-core-components (setup.py) ... \u001b[?25l\u001b[?25hdone\n",
            "  Created wheel for dash-core-components: filename=dash_core_components-1.10.2-cp36-none-any.whl size=3457324 sha256=cac40955f796df2c4940fb478192f0f3804b01ef3856446850ed5d29763fb1b9\n",
            "  Stored in directory: /root/.cache/pip/wheels/2a/38/71/0c7e350a8280f6c94a2024a4d16ba905dd2a86ed2aa4a093e3\n",
            "  Building wheel for dash-html-components (setup.py) ... \u001b[?25l\u001b[?25hdone\n",
            "  Created wheel for dash-html-components: filename=dash_html_components-1.0.3-cp36-none-any.whl size=427303 sha256=a4897b31daa783e7357de6bd4978b44fa532583ff9e5736ee8db37cf34a599d4\n",
            "  Stored in directory: /root/.cache/pip/wheels/22/c0/79/ef4c2b20a23dc8457ae75c3da5f63163db213d86e13e00fe26\n",
            "  Building wheel for dash-table (setup.py) ... \u001b[?25l\u001b[?25hdone\n",
            "  Created wheel for dash-table: filename=dash_table-4.9.0-cp36-none-any.whl size=1780769 sha256=b265aef394871b962f1bc3ff02336103205877dfd50fe3e3eb38bd641c062cf0\n",
            "  Stored in directory: /root/.cache/pip/wheels/f6/99/e4/a3af0a6f2d07ace02dd25984c08294d2749818c38f44d55338\n",
            "Successfully built dash flask-compress dash-renderer dash-core-components dash-html-components dash-table\n",
            "Installing collected packages: brotli, flask-compress, dash-renderer, dash-core-components, dash-html-components, dash-table, dash\n",
            "Successfully installed brotli-1.0.7 dash-1.14.0 dash-core-components-1.10.2 dash-html-components-1.0.3 dash-renderer-1.6.0 dash-table-4.9.0 flask-compress-1.5.0\n"
          ],
          "name": "stdout"
        }
      ]
    },
    {
      "cell_type": "code",
      "metadata": {
        "id": "bM3pkuv5ZNTB",
        "colab_type": "code",
        "colab": {
          "base_uri": "https://localhost:8080/",
          "height": 54
        },
        "outputId": "226f9cb5-ce0d-40d3-ff32-d7f34957913e"
      },
      "source": [
        "!pip3 install dash-html-components"
      ],
      "execution_count": 86,
      "outputs": [
        {
          "output_type": "stream",
          "text": [
            "Requirement already satisfied: dash-html-components in /usr/local/lib/python3.6/dist-packages (1.0.3)\n"
          ],
          "name": "stdout"
        }
      ]
    },
    {
      "cell_type": "code",
      "metadata": {
        "id": "FQonaZ30ZNQj",
        "colab_type": "code",
        "colab": {
          "base_uri": "https://localhost:8080/",
          "height": 54
        },
        "outputId": "057334fc-fdec-4921-aa0e-bf78bf6735c0"
      },
      "source": [
        "!pip3 install dash-core-components"
      ],
      "execution_count": 87,
      "outputs": [
        {
          "output_type": "stream",
          "text": [
            "Requirement already satisfied: dash-core-components in /usr/local/lib/python3.6/dist-packages (1.10.2)\n"
          ],
          "name": "stdout"
        }
      ]
    },
    {
      "cell_type": "code",
      "metadata": {
        "id": "CJcDiJ45ZNMi",
        "colab_type": "code",
        "colab": {}
      },
      "source": [
        "# Load necessary libraries\n",
        "\n",
        "import dash\n",
        "import dash_core_components as dcc\n",
        "import dash_html_components as html\n",
        "import plotly.graph_objs as go\n",
        "import pandas as pd\n",
        "import numpy as np\n",
        "from dash.dependencies import  Input, Output\n",
        "from keras.models import load_model\n",
        "from sklearn.preprocessing import MinMaxScaler"
      ],
      "execution_count": 88,
      "outputs": []
    },
    {
      "cell_type": "code",
      "metadata": {
        "id": "fbiUzK_UZNK4",
        "colab_type": "code",
        "colab": {}
      },
      "source": [
        "app = dash.Dash()\n",
        "server = app.server"
      ],
      "execution_count": 89,
      "outputs": []
    },
    {
      "cell_type": "code",
      "metadata": {
        "id": "p-w0XxpDamAe",
        "colab_type": "code",
        "colab": {
          "base_uri": "https://localhost:8080/",
          "height": 204
        },
        "outputId": "d944a535-4843-47f6-e328-4e91642a8890"
      },
      "source": [
        "stock = pd.read_csv('/content/stock_data.csv')\n",
        "stock.head()"
      ],
      "execution_count": 91,
      "outputs": [
        {
          "output_type": "execute_result",
          "data": {
            "text/html": [
              "<div>\n",
              "<style scoped>\n",
              "    .dataframe tbody tr th:only-of-type {\n",
              "        vertical-align: middle;\n",
              "    }\n",
              "\n",
              "    .dataframe tbody tr th {\n",
              "        vertical-align: top;\n",
              "    }\n",
              "\n",
              "    .dataframe thead th {\n",
              "        text-align: right;\n",
              "    }\n",
              "</style>\n",
              "<table border=\"1\" class=\"dataframe\">\n",
              "  <thead>\n",
              "    <tr style=\"text-align: right;\">\n",
              "      <th></th>\n",
              "      <th>Date</th>\n",
              "      <th>Open</th>\n",
              "      <th>High</th>\n",
              "      <th>Low</th>\n",
              "      <th>Close</th>\n",
              "      <th>Volume</th>\n",
              "      <th>OpenInt</th>\n",
              "      <th>Stock</th>\n",
              "    </tr>\n",
              "  </thead>\n",
              "  <tbody>\n",
              "    <tr>\n",
              "      <th>0</th>\n",
              "      <td>1984-09-07</td>\n",
              "      <td>0.42388</td>\n",
              "      <td>0.42902</td>\n",
              "      <td>0.41874</td>\n",
              "      <td>0.42388</td>\n",
              "      <td>23220030</td>\n",
              "      <td>0</td>\n",
              "      <td>AAPL</td>\n",
              "    </tr>\n",
              "    <tr>\n",
              "      <th>1</th>\n",
              "      <td>1984-09-10</td>\n",
              "      <td>0.42388</td>\n",
              "      <td>0.42516</td>\n",
              "      <td>0.41366</td>\n",
              "      <td>0.42134</td>\n",
              "      <td>18022532</td>\n",
              "      <td>0</td>\n",
              "      <td>AAPL</td>\n",
              "    </tr>\n",
              "    <tr>\n",
              "      <th>2</th>\n",
              "      <td>1984-09-11</td>\n",
              "      <td>0.42516</td>\n",
              "      <td>0.43668</td>\n",
              "      <td>0.42516</td>\n",
              "      <td>0.42902</td>\n",
              "      <td>42498199</td>\n",
              "      <td>0</td>\n",
              "      <td>AAPL</td>\n",
              "    </tr>\n",
              "    <tr>\n",
              "      <th>3</th>\n",
              "      <td>1984-09-12</td>\n",
              "      <td>0.42902</td>\n",
              "      <td>0.43157</td>\n",
              "      <td>0.41618</td>\n",
              "      <td>0.41618</td>\n",
              "      <td>37125801</td>\n",
              "      <td>0</td>\n",
              "      <td>AAPL</td>\n",
              "    </tr>\n",
              "    <tr>\n",
              "      <th>4</th>\n",
              "      <td>1984-09-13</td>\n",
              "      <td>0.43927</td>\n",
              "      <td>0.44052</td>\n",
              "      <td>0.43927</td>\n",
              "      <td>0.43927</td>\n",
              "      <td>57822062</td>\n",
              "      <td>0</td>\n",
              "      <td>AAPL</td>\n",
              "    </tr>\n",
              "  </tbody>\n",
              "</table>\n",
              "</div>"
            ],
            "text/plain": [
              "         Date     Open     High      Low    Close    Volume  OpenInt Stock\n",
              "0  1984-09-07  0.42388  0.42902  0.41874  0.42388  23220030        0  AAPL\n",
              "1  1984-09-10  0.42388  0.42516  0.41366  0.42134  18022532        0  AAPL\n",
              "2  1984-09-11  0.42516  0.43668  0.42516  0.42902  42498199        0  AAPL\n",
              "3  1984-09-12  0.42902  0.43157  0.41618  0.41618  37125801        0  AAPL\n",
              "4  1984-09-13  0.43927  0.44052  0.43927  0.43927  57822062        0  AAPL"
            ]
          },
          "metadata": {
            "tags": []
          },
          "execution_count": 91
        }
      ]
    },
    {
      "cell_type": "code",
      "metadata": {
        "id": "KBYVURUYal8l",
        "colab_type": "code",
        "colab": {}
      },
      "source": [
        "app.layout = html.Div([\n",
        "   \n",
        "    html.H1(\"Stock Price Analysis Dashboard\", style={\"textAlign\": \"center\"}),\n",
        "   \n",
        "    dcc.Tabs(id=\"tabs\", children=[\n",
        "       \n",
        "        dcc.Tab(label='NSE-TATAGLOBAL Stock Data',children=[\n",
        "            html.Div([\n",
        "                html.H2(\"Actual closing price\",style={\"textAlign\": \"center\"}),\n",
        "                dcc.Graph(\n",
        "                    id=\"Actual Data\",\n",
        "                    figure={\n",
        "                        \"data\":[\n",
        "                            go.Scatter(\n",
        "                                x=train_data.index,\n",
        "                                y=valid_data[\"Close\"],\n",
        "                                mode='markers'\n",
        "                            )\n",
        "                        ],\n",
        "                        \"layout\":go.Layout(\n",
        "                            title='scatter plot',\n",
        "                            xaxis={'title':'Date'},\n",
        "                            yaxis={'title':'Closing Rate'}\n",
        "                        )\n",
        "                    }\n",
        "                ),\n",
        "                html.H2(\"LSTM Predicted closing price\",style={\"textAlign\": \"center\"}),\n",
        "                dcc.Graph(\n",
        "                    id=\"Predicted Data\",\n",
        "                    figure={\n",
        "                        \"data\":[\n",
        "                            go.Scatter(\n",
        "                                x=valid_data.index,\n",
        "                                y=valid_data[\"Predictions\"],\n",
        "                                mode='markers'\n",
        "                            )\n",
        "                        ],\n",
        "                        \"layout\":go.Layout(\n",
        "                            title='scatter plot',\n",
        "                            xaxis={'title':'Date'},\n",
        "                            yaxis={'title':'Closing Rate'}\n",
        "                        )\n",
        "                    }\n",
        "                )                \n",
        "            ])                \n",
        "        ]),\n",
        "        dcc.Tab(label='Facebook Stock Data', children=[\n",
        "            html.Div([\n",
        "                html.H1(\"Facebook Stocks High vs Lows\", \n",
        "                        style={'textAlign': 'center'}),\n",
        "              \n",
        "                dcc.Dropdown(id='my-dropdown',\n",
        "                             options=[{'label': 'Tesla', 'value': 'TSLA'},\n",
        "                                      {'label': 'Apple','value': 'AAPL'}, \n",
        "                                      {'label': 'Facebook', 'value': 'FB'}, \n",
        "                                      {'label': 'Microsoft','value': 'MSFT'}], \n",
        "                             multi=True,value=['FB'],\n",
        "                             style={\"display\": \"block\", \"margin-left\": \"auto\", \n",
        "                                    \"margin-right\": \"auto\", \"width\": \"60%\"}),\n",
        "                dcc.Graph(id='highlow'),\n",
        "                html.H1(\"Facebook Market Volume\", style={'textAlign': 'center'}),\n",
        "         \n",
        "                dcc.Dropdown(id='my-dropdown2',\n",
        "                             options=[{'label': 'Tesla', 'value': 'TSLA'},\n",
        "                                      {'label': 'Apple','value': 'AAPL'}, \n",
        "                                      {'label': 'Facebook', 'value': 'FB'},\n",
        "                                      {'label': 'Microsoft','value': 'MSFT'}], \n",
        "                             multi=True,value=['FB'],\n",
        "                             style={\"display\": \"block\", \"margin-left\": \"auto\", \n",
        "                                    \"margin-right\": \"auto\", \"width\": \"60%\"}),\n",
        "                dcc.Graph(id='volume')\n",
        "            ], className=\"container\"),\n",
        "        ])\n",
        "    ])\n",
        "])\n"
      ],
      "execution_count": 92,
      "outputs": []
    },
    {
      "cell_type": "code",
      "metadata": {
        "id": "tbjhYv36al61",
        "colab_type": "code",
        "colab": {}
      },
      "source": [
        "@app.callback(Output('highlow', 'figure'),\n",
        "              [Input('my-dropdown', 'value')])\n",
        "def update_graph(selected_dropdown):\n",
        "    dropdown = {\"TSLA\": \"Tesla\",\"AAPL\": \"Apple\",\"FB\": \"Facebook\",\"MSFT\": \"Microsoft\",}\n",
        "    trace1 = []\n",
        "    trace2 = []\n",
        "    for stock in selected_dropdown:\n",
        "        trace1.append(\n",
        "          go.Scatter(x=df[df[\"Stock\"] == stock][\"Date\"],\n",
        "                     y=df[df[\"Stock\"] == stock][\"High\"],\n",
        "                     mode='lines', opacity=0.7, \n",
        "                     name=f'High {dropdown[stock]}',textposition='bottom center'))\n",
        "        trace2.append(\n",
        "          go.Scatter(x=df[df[\"Stock\"] == stock][\"Date\"],\n",
        "                     y=df[df[\"Stock\"] == stock][\"Low\"],\n",
        "                     mode='lines', opacity=0.6,\n",
        "                     name=f'Low {dropdown[stock]}',textposition='bottom center'))\n",
        "    traces = [trace1, trace2]\n",
        "    data = [val for sublist in traces for val in sublist]\n",
        "    figure = {'data': data,\n",
        "              'layout': go.Layout(colorway=[\"#5E0DAC\", '#FF4F00', '#375CB1', \n",
        "                                            '#FF7400', '#FFF400', '#FF0056'],\n",
        "            height=600,\n",
        "            title=f\"High and Low Prices for {', '.join(str(dropdown[i]) for i in selected_dropdown)} Over Time\",\n",
        "            xaxis={\"title\":\"Date\",\n",
        "                   'rangeselector': {'buttons': list([{'count': 1, 'label': '1M', \n",
        "                                                       'step': 'month', \n",
        "                                                       'stepmode': 'backward'},\n",
        "                                                      {'count': 6, 'label': '6M', \n",
        "                                                       'step': 'month', \n",
        "                                                       'stepmode': 'backward'},\n",
        "                                                      {'step': 'all'}])},\n",
        "                   'rangeslider': {'visible': True}, 'type': 'date'},\n",
        "             yaxis={\"title\":\"Price (USD)\"})}\n",
        "    return figure\n",
        "@app.callback(Output('volume', 'figure'),\n",
        "              [Input('my-dropdown2', 'value')])\n",
        "def update_graph(selected_dropdown_value):\n",
        "    dropdown = {\"TSLA\": \"Tesla\",\"AAPL\": \"Apple\",\"FB\": \"Facebook\",\"MSFT\": \"Microsoft\",}\n",
        "    trace1 = []\n",
        "    for stock in selected_dropdown_value:\n",
        "        trace1.append(\n",
        "          go.Scatter(x=df[df[\"Stock\"] == stock][\"Date\"],\n",
        "                     y=df[df[\"Stock\"] == stock][\"Volume\"],\n",
        "                     mode='lines', opacity=0.7,\n",
        "                     name=f'Volume {dropdown[stock]}', textposition='bottom center'))\n",
        "    traces = [trace1]\n",
        "    data = [val for sublist in traces for val in sublist]\n",
        "    figure = {'data': data, \n",
        "              'layout': go.Layout(colorway=[\"#5E0DAC\", '#FF4F00', '#375CB1', \n",
        "                                            '#FF7400', '#FFF400', '#FF0056'],\n",
        "            height=600,\n",
        "            title=f\"Market Volume for {', '.join(str(dropdown[i]) for i in selected_dropdown_value)} Over Time\",\n",
        "            xaxis={\"title\":\"Date\",\n",
        "                   'rangeselector': {'buttons': list([{'count': 1, 'label': '1M', \n",
        "                                                       'step': 'month', \n",
        "                                                       'stepmode': 'backward'},\n",
        "                                                      {'count': 6, 'label': '6M',\n",
        "                                                       'step': 'month', \n",
        "                                                       'stepmode': 'backward'},\n",
        "                                                      {'step': 'all'}])},\n",
        "                   'rangeslider': {'visible': True}, 'type': 'date'},\n",
        "             yaxis={\"title\":\"Transactions Volume\"})}\n",
        "    return figure\n"
      ],
      "execution_count": 93,
      "outputs": []
    },
    {
      "cell_type": "code",
      "metadata": {
        "id": "34qU9CzOal2a",
        "colab_type": "code",
        "colab": {}
      },
      "source": [
        "if __name__=='__main__':\n",
        "    app.run(debug=True, use_reloader=False)"
      ],
      "execution_count": null,
      "outputs": []
    },
    {
      "cell_type": "markdown",
      "metadata": {
        "id": "IzLH2qvgD5IR",
        "colab_type": "text"
      },
      "source": [
        "Now run this file and open the app in the browser"
      ]
    },
    {
      "cell_type": "code",
      "metadata": {
        "id": "yQRsvQioD0WI",
        "colab_type": "code",
        "colab": {}
      },
      "source": [
        "python3 stock_app.py"
      ],
      "execution_count": null,
      "outputs": []
    }
  ]
}